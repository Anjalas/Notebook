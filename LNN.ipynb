{
 "cells": [
  {
   "cell_type": "markdown",
   "id": "e033ebc6",
   "metadata": {},
   "source": [
    "# Uploading Jupyter Notebook to Github"
   ]
  },
  {
   "cell_type": "code",
   "execution_count": 18,
   "id": "f0d7bff1",
   "metadata": {},
   "outputs": [
    {
     "name": "stdout",
     "output_type": "stream",
     "text": [
      "Requirement already satisfied: gitpython in c:\\users\\017806744\\winpython64-3.10.5.0\\wpy64-31050\\python-3.10.5.amd64\\lib\\site-packages (3.1.26)\n",
      "Requirement already satisfied: gitdb<5,>=4.0.1 in c:\\users\\017806744\\winpython64-3.10.5.0\\wpy64-31050\\python-3.10.5.amd64\\lib\\site-packages (from gitpython) (4.0.9)\n",
      "Requirement already satisfied: smmap<6,>=3.0.1 in c:\\users\\017806744\\winpython64-3.10.5.0\\wpy64-31050\\python-3.10.5.amd64\\lib\\site-packages (from gitdb<5,>=4.0.1->gitpython) (5.0.0)\n"
     ]
    }
   ],
   "source": [
    "! pip install gitpython"
   ]
  },
  {
   "cell_type": "code",
   "execution_count": null,
   "id": "df0b7d4f",
   "metadata": {},
   "outputs": [],
   "source": []
  }
 ],
 "metadata": {
  "kernelspec": {
   "display_name": "Python 3 (ipykernel)",
   "language": "python",
   "name": "python3"
  },
  "language_info": {
   "codemirror_mode": {
    "name": "ipython",
    "version": 3
   },
   "file_extension": ".py",
   "mimetype": "text/x-python",
   "name": "python",
   "nbconvert_exporter": "python",
   "pygments_lexer": "ipython3",
   "version": "3.10.5"
  }
 },
 "nbformat": 4,
 "nbformat_minor": 5
}
